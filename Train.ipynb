{
 "cells": [
  {
   "cell_type": "code",
   "execution_count": 1,
   "id": "40026277",
   "metadata": {},
   "outputs": [],
   "source": [
    "# import required packages\n",
    "import cv2\n",
    "from keras.models import Sequential\n",
    "from keras.layers import Conv2D, MaxPooling2D, Dense,BatchNormalization, Dropout, Flatten\n",
    "from keras.preprocessing.image import ImageDataGenerator"
   ]
  },
  {
   "cell_type": "code",
   "execution_count": 2,
   "id": "8331deb1",
   "metadata": {},
   "outputs": [],
   "source": [
    "# Initialize image data generator with rescaling\n",
    "train_data_gen = ImageDataGenerator(rescale=1./255)\n",
    "validation_data_gen = ImageDataGenerator(rescale=1./255)"
   ]
  },
  {
   "cell_type": "code",
   "execution_count": 3,
   "id": "efc80361",
   "metadata": {},
   "outputs": [
    {
     "name": "stdout",
     "output_type": "stream",
     "text": [
      "Found 28709 images belonging to 7 classes.\n",
      "Found 7178 images belonging to 7 classes.\n"
     ]
    }
   ],
   "source": [
    "# Preprocess all test images\n",
    "train_generator = train_data_gen.flow_from_directory('Data/train',target_size=(48, 48),batch_size=64,color_mode=\"grayscale\",class_mode='categorical')\n",
    "\n",
    "# Preprocess all train images\n",
    "validation_generator = validation_data_gen.flow_from_directory('Data/test',target_size=(48, 48),batch_size=64,color_mode=\"grayscale\",class_mode='categorical')"
   ]
  },
  {
   "cell_type": "code",
   "execution_count": 4,
   "id": "891b96ca",
   "metadata": {},
   "outputs": [],
   "source": [
    "# create model structure\n",
    "emotion_model = Sequential()\n",
    "\n",
    "\"\"\" 1st convolution layer \"\"\"\n",
    "emotion_model.add(Conv2D(64, kernel_size=(3, 3), activation='relu', input_shape=(48, 48, 1)))\n",
    "emotion_model.add(Conv2D(64, kernel_size=(3, 3), activation='relu'))\n",
    "emotion_model.add(BatchNormalization())\n",
    "emotion_model.add(MaxPooling2D(pool_size=(2, 2)))\n",
    "emotion_model.add(Dropout(0.25))\n",
    "\n",
    "\"\"\" 2nd convolution layer \"\"\"\n",
    "emotion_model.add(Conv2D(64, kernel_size=(3, 3), activation='relu'))\n",
    "emotion_model.add(Conv2D(64, kernel_size=(3, 3), activation='relu'))\n",
    "emotion_model.add(BatchNormalization())\n",
    "emotion_model.add(MaxPooling2D(pool_size=(2, 2)))\n",
    "emotion_model.add(Dropout(0.25))\n",
    "\n",
    "\"\"\" 3rd convolution layer \"\"\"\n",
    "emotion_model.add(Conv2D(128, (3, 3), activation='relu'))\n",
    "emotion_model.add(Conv2D(128, (3, 3), activation='relu'))\n",
    "emotion_model.add(BatchNormalization())\n",
    "emotion_model.add(MaxPooling2D(pool_size=(2,2), strides=(2, 2)))\n",
    "\n",
    "emotion_model.add(Flatten())\n",
    "emotion_model.add(Dense(1024, activation='relu'))\n",
    "emotion_model.add(Dropout(0.5))\n",
    "emotion_model.add(Dense(7, activation='softmax'))\n",
    "\n",
    "cv2.ocl.setUseOpenCL(False)"
   ]
  },
  {
   "cell_type": "code",
   "execution_count": 5,
   "id": "d3860847",
   "metadata": {},
   "outputs": [
    {
     "name": "stderr",
     "output_type": "stream",
     "text": [
      "<ipython-input-5-01c7c7f18eaf>:4: UserWarning: `Model.fit_generator` is deprecated and will be removed in a future version. Please use `Model.fit`, which supports generators.\n",
      "  emotion_model_info = emotion_model.fit_generator(train_generator,steps_per_epoch=28709 // 64,epochs=50,validation_data=validation_generator,validation_steps=7178 // 64)\n"
     ]
    },
    {
     "name": "stdout",
     "output_type": "stream",
     "text": [
      "Epoch 1/50\n",
      "448/448 [==============================] - 337s 749ms/step - loss: 1.7579 - accuracy: 0.3226 - val_loss: 1.6216 - val_accuracy: 0.3542\n",
      "Epoch 2/50\n",
      "448/448 [==============================] - 258s 576ms/step - loss: 1.4770 - accuracy: 0.4273 - val_loss: 1.5048 - val_accuracy: 0.4152\n",
      "Epoch 3/50\n",
      "448/448 [==============================] - 259s 579ms/step - loss: 1.3484 - accuracy: 0.4847 - val_loss: 1.4892 - val_accuracy: 0.4442\n",
      "Epoch 4/50\n",
      "448/448 [==============================] - 261s 583ms/step - loss: 1.2705 - accuracy: 0.5162 - val_loss: 1.5264 - val_accuracy: 0.4558\n",
      "Epoch 5/50\n",
      "448/448 [==============================] - 256s 572ms/step - loss: 1.2086 - accuracy: 0.5418 - val_loss: 1.2265 - val_accuracy: 0.5332\n",
      "Epoch 6/50\n",
      "448/448 [==============================] - 262s 586ms/step - loss: 1.1600 - accuracy: 0.5589 - val_loss: 1.1887 - val_accuracy: 0.5552\n",
      "Epoch 7/50\n",
      "448/448 [==============================] - 269s 601ms/step - loss: 1.1091 - accuracy: 0.5809 - val_loss: 1.3766 - val_accuracy: 0.4735\n",
      "Epoch 8/50\n",
      "448/448 [==============================] - 260s 580ms/step - loss: 1.0715 - accuracy: 0.5928 - val_loss: 1.2473 - val_accuracy: 0.5303\n",
      "Epoch 9/50\n",
      "448/448 [==============================] - 256s 572ms/step - loss: 1.0162 - accuracy: 0.6160 - val_loss: 1.1625 - val_accuracy: 0.5751\n",
      "Epoch 10/50\n",
      "448/448 [==============================] - 258s 576ms/step - loss: 0.9857 - accuracy: 0.6288 - val_loss: 1.2802 - val_accuracy: 0.5315\n",
      "Epoch 11/50\n",
      "448/448 [==============================] - 258s 575ms/step - loss: 0.9382 - accuracy: 0.6445 - val_loss: 1.1516 - val_accuracy: 0.5884\n",
      "Epoch 12/50\n",
      "448/448 [==============================] - 256s 572ms/step - loss: 0.8895 - accuracy: 0.6660 - val_loss: 1.3447 - val_accuracy: 0.5361\n",
      "Epoch 13/50\n",
      "448/448 [==============================] - 258s 575ms/step - loss: 0.8539 - accuracy: 0.6781 - val_loss: 1.1493 - val_accuracy: 0.5914\n",
      "Epoch 14/50\n",
      "448/448 [==============================] - 258s 576ms/step - loss: 0.8009 - accuracy: 0.6991 - val_loss: 1.2535 - val_accuracy: 0.5818\n",
      "Epoch 15/50\n",
      "448/448 [==============================] - 258s 575ms/step - loss: 0.7644 - accuracy: 0.7130 - val_loss: 1.1931 - val_accuracy: 0.6017\n",
      "Epoch 16/50\n",
      "448/448 [==============================] - 258s 575ms/step - loss: 0.7149 - accuracy: 0.7313 - val_loss: 1.2679 - val_accuracy: 0.5851\n",
      "Epoch 17/50\n",
      "448/448 [==============================] - 259s 578ms/step - loss: 0.6762 - accuracy: 0.7464 - val_loss: 1.2564 - val_accuracy: 0.6025\n",
      "Epoch 18/50\n",
      "448/448 [==============================] - 259s 577ms/step - loss: 0.6373 - accuracy: 0.7615 - val_loss: 1.2133 - val_accuracy: 0.5953\n",
      "Epoch 19/50\n",
      "448/448 [==============================] - 259s 578ms/step - loss: 0.6029 - accuracy: 0.7739 - val_loss: 1.3800 - val_accuracy: 0.6110\n",
      "Epoch 20/50\n",
      "448/448 [==============================] - 259s 578ms/step - loss: 0.5807 - accuracy: 0.7848 - val_loss: 1.2970 - val_accuracy: 0.6002\n",
      "Epoch 21/50\n",
      "448/448 [==============================] - 258s 576ms/step - loss: 0.5543 - accuracy: 0.7938 - val_loss: 1.3861 - val_accuracy: 0.6060\n",
      "Epoch 22/50\n",
      "448/448 [==============================] - 267s 596ms/step - loss: 0.5235 - accuracy: 0.8069 - val_loss: 1.4326 - val_accuracy: 0.6066\n",
      "Epoch 23/50\n",
      "448/448 [==============================] - 262s 586ms/step - loss: 0.4974 - accuracy: 0.8152 - val_loss: 1.7625 - val_accuracy: 0.5622\n",
      "Epoch 24/50\n",
      "448/448 [==============================] - 260s 580ms/step - loss: 0.4786 - accuracy: 0.8220 - val_loss: 1.4542 - val_accuracy: 0.6094\n",
      "Epoch 25/50\n",
      "448/448 [==============================] - 258s 577ms/step - loss: 0.4512 - accuracy: 0.8322 - val_loss: 1.4983 - val_accuracy: 0.6003\n",
      "Epoch 26/50\n",
      "448/448 [==============================] - 258s 577ms/step - loss: 0.4249 - accuracy: 0.8406 - val_loss: 1.4683 - val_accuracy: 0.6021\n",
      "Epoch 27/50\n",
      "448/448 [==============================] - 265s 591ms/step - loss: 0.4195 - accuracy: 0.8446 - val_loss: 1.5530 - val_accuracy: 0.5879\n",
      "Epoch 28/50\n",
      "448/448 [==============================] - 267s 596ms/step - loss: 0.3983 - accuracy: 0.8533 - val_loss: 1.6695 - val_accuracy: 0.5886\n",
      "Epoch 29/50\n",
      "448/448 [==============================] - 288s 642ms/step - loss: 0.3824 - accuracy: 0.8587 - val_loss: 1.6258 - val_accuracy: 0.6034\n",
      "Epoch 30/50\n",
      "448/448 [==============================] - 261s 582ms/step - loss: 0.3667 - accuracy: 0.8648 - val_loss: 1.7122 - val_accuracy: 0.5894\n",
      "Epoch 31/50\n",
      "448/448 [==============================] - 263s 588ms/step - loss: 0.3595 - accuracy: 0.8677 - val_loss: 1.7968 - val_accuracy: 0.6077\n",
      "Epoch 32/50\n",
      "448/448 [==============================] - 259s 579ms/step - loss: 0.3482 - accuracy: 0.8737 - val_loss: 1.8562 - val_accuracy: 0.6052\n",
      "Epoch 33/50\n",
      "448/448 [==============================] - 260s 581ms/step - loss: 0.3390 - accuracy: 0.8775 - val_loss: 1.8180 - val_accuracy: 0.5975\n",
      "Epoch 34/50\n",
      "448/448 [==============================] - 266s 593ms/step - loss: 0.3274 - accuracy: 0.8802 - val_loss: 1.8112 - val_accuracy: 0.5999\n",
      "Epoch 35/50\n",
      "448/448 [==============================] - 260s 580ms/step - loss: 0.3221 - accuracy: 0.8858 - val_loss: 1.8506 - val_accuracy: 0.6101\n",
      "Epoch 36/50\n",
      "448/448 [==============================] - 272s 607ms/step - loss: 0.3092 - accuracy: 0.8868 - val_loss: 1.7102 - val_accuracy: 0.6070\n",
      "Epoch 37/50\n",
      "448/448 [==============================] - 264s 589ms/step - loss: 0.3051 - accuracy: 0.8896 - val_loss: 1.9862 - val_accuracy: 0.5995\n",
      "Epoch 38/50\n",
      "448/448 [==============================] - 259s 578ms/step - loss: 0.2951 - accuracy: 0.8923 - val_loss: 2.0004 - val_accuracy: 0.5929\n",
      "Epoch 39/50\n",
      "448/448 [==============================] - 260s 581ms/step - loss: 0.2765 - accuracy: 0.8999 - val_loss: 1.9206 - val_accuracy: 0.5924\n",
      "Epoch 40/50\n",
      "448/448 [==============================] - 260s 581ms/step - loss: 0.2833 - accuracy: 0.8987 - val_loss: 1.9598 - val_accuracy: 0.5995\n",
      "Epoch 41/50\n",
      "448/448 [==============================] - 261s 582ms/step - loss: 0.2831 - accuracy: 0.9004 - val_loss: 1.8405 - val_accuracy: 0.5954\n",
      "Epoch 42/50\n",
      "448/448 [==============================] - 260s 581ms/step - loss: 0.2591 - accuracy: 0.9047 - val_loss: 1.9954 - val_accuracy: 0.5965\n",
      "Epoch 43/50\n",
      "448/448 [==============================] - 261s 582ms/step - loss: 0.2589 - accuracy: 0.9087 - val_loss: 2.1201 - val_accuracy: 0.5880\n",
      "Epoch 44/50\n",
      "448/448 [==============================] - 262s 586ms/step - loss: 0.2548 - accuracy: 0.9091 - val_loss: 1.9233 - val_accuracy: 0.6017\n",
      "Epoch 45/50\n",
      "448/448 [==============================] - 261s 581ms/step - loss: 0.2538 - accuracy: 0.9081 - val_loss: 2.0481 - val_accuracy: 0.6046\n",
      "Epoch 46/50\n",
      "448/448 [==============================] - 273s 610ms/step - loss: 0.2426 - accuracy: 0.9133 - val_loss: 2.1975 - val_accuracy: 0.6056\n",
      "Epoch 47/50\n",
      "448/448 [==============================] - 288s 642ms/step - loss: 0.2383 - accuracy: 0.9148 - val_loss: 2.0745 - val_accuracy: 0.6011\n",
      "Epoch 48/50\n",
      "448/448 [==============================] - 314s 701ms/step - loss: 0.2264 - accuracy: 0.9212 - val_loss: 2.1909 - val_accuracy: 0.6010\n",
      "Epoch 49/50\n",
      "448/448 [==============================] - 308s 688ms/step - loss: 0.2220 - accuracy: 0.9189 - val_loss: 2.0750 - val_accuracy: 0.5900\n",
      "Epoch 50/50\n",
      "448/448 [==============================] - 297s 664ms/step - loss: 0.2240 - accuracy: 0.9211 - val_loss: 2.2657 - val_accuracy: 0.5993\n"
     ]
    },
    {
     "name": "stderr",
     "output_type": "stream",
     "text": [
      "<ipython-input-5-01c7c7f18eaf>:16: UserWarning: `Model.evaluate_generator` is deprecated and will be removed in a future version. Please use `Model.evaluate`, which supports generators.\n",
      "  score = emotion_model.evaluate_generator(validation_generator, steps=7067 // 64)\n"
     ]
    },
    {
     "name": "stdout",
     "output_type": "stream",
     "text": [
      "Test loss:  2.273135185241699\n",
      "Test accuracy:  0.5973011255264282\n"
     ]
    }
   ],
   "source": [
    "emotion_model.compile(loss='categorical_crossentropy', optimizer='adam', metrics=['accuracy'])\n",
    "\n",
    "# Train the neural network/model\n",
    "emotion_model_info = emotion_model.fit_generator(train_generator,steps_per_epoch=28709 // 64,epochs=50,validation_data=validation_generator,validation_steps=7178 // 64)\n",
    "\n",
    "\n",
    "# save model structure in jason file\n",
    "model_json = emotion_model.to_json()\n",
    "with open(\"model.json\", \"w\") as json_file:\n",
    "    json_file.write(model_json)\n",
    "\n",
    "# save trained model weight in .h5 file\n",
    "emotion_model.save_weights('model_weight.h5')\n",
    "\n",
    "# Evaluate Model\n",
    "score = emotion_model.evaluate_generator(validation_generator, steps=7067 // 64) \n",
    "print('Test loss: ', score[0])\n",
    "print('Test accuracy: ', score[1])"
   ]
  }
 ],
 "metadata": {
  "kernelspec": {
   "display_name": "Python 3 (ipykernel)",
   "language": "python",
   "name": "python3"
  },
  "language_info": {
   "codemirror_mode": {
    "name": "ipython",
    "version": 3
   },
   "file_extension": ".py",
   "mimetype": "text/x-python",
   "name": "python",
   "nbconvert_exporter": "python",
   "pygments_lexer": "ipython3",
   "version": "3.9.7"
  }
 },
 "nbformat": 4,
 "nbformat_minor": 5
}
